{
 "cells": [
  {
   "cell_type": "markdown",
   "id": "b4ba75e3",
   "metadata": {},
   "source": [
    "# Data Science Tools and Ecosystem"
   ]
  },
  {
   "cell_type": "markdown",
   "id": "f57a6e23",
   "metadata": {},
   "source": [
    "In this notebook, Data Science Tools and Ecosystem are summarized."
   ]
  },
  {
   "cell_type": "markdown",
   "id": "00bb45c3",
   "metadata": {},
   "source": [
    "Some of the popular languages that Data Scientists use are:\n",
    "1. Python\n",
    "2. R\n",
    "3. SQL\n",
    "    "
   ]
  },
  {
   "cell_type": "markdown",
   "id": "9da628b0",
   "metadata": {},
   "source": [
    "Some of the commonly used libraries used by Data Scientists include:\n",
    "1. Pandas\n",
    "2. Numpy\n",
    "3. Scikit-learn\n",
    "4. Ggplot"
   ]
  },
  {
   "cell_type": "markdown",
   "id": "5113fed1",
   "metadata": {},
   "source": [
    "| Syntax |\n",
    "| --- |\n",
    "| JupyterLab |\n",
    "| VSCode |\n",
    "| Rstudio|"
   ]
  },
  {
   "cell_type": "markdown",
   "id": "90d218a2",
   "metadata": {},
   "source": [
    "### Below are a few examples of evaluating arithmetic expressions in Python"
   ]
  },
  {
   "cell_type": "code",
   "execution_count": 4,
   "id": "197f6c98",
   "metadata": {},
   "outputs": [
    {
     "data": {
      "text/plain": [
       "17"
      ]
     },
     "execution_count": 4,
     "metadata": {},
     "output_type": "execute_result"
    }
   ],
   "source": [
    "# This a simple arithmetic expression to mutiply then add integers:\n",
    "(3*4)+5"
   ]
  },
  {
   "cell_type": "code",
   "execution_count": 5,
   "id": "ade16f8c",
   "metadata": {},
   "outputs": [
    {
     "name": "stdout",
     "output_type": "stream",
     "text": [
      "3.3333333333333335\n"
     ]
    }
   ],
   "source": [
    "# This will convert 200 minutes to hours by diving by 60\n",
    "minutes = 200\n",
    "hours  = minutes/ 60\n",
    "print(hours)"
   ]
  },
  {
   "cell_type": "markdown",
   "id": "1e84d5cf",
   "metadata": {},
   "source": [
    "**Objectives:** \n",
    "* List of popular programming languages for Data Science\n",
    "* List of commonly used libraries for Data Science\n",
    "* Learn how to use markdown in jupyter notebooks\n",
    "* Learn how to use Github"
   ]
  },
  {
   "cell_type": "markdown",
   "id": "23608711",
   "metadata": {},
   "source": [
    "## Author\n",
    "Ahmed Issa"
   ]
  },
  {
   "cell_type": "code",
   "execution_count": null,
   "id": "bfd467f4",
   "metadata": {},
   "outputs": [],
   "source": []
  }
 ],
 "metadata": {
  "kernelspec": {
   "display_name": "Python 3 (ipykernel)",
   "language": "python",
   "name": "python3"
  },
  "language_info": {
   "codemirror_mode": {
    "name": "ipython",
    "version": 3
   },
   "file_extension": ".py",
   "mimetype": "text/x-python",
   "name": "python",
   "nbconvert_exporter": "python",
   "pygments_lexer": "ipython3",
   "version": "3.9.7"
  }
 },
 "nbformat": 4,
 "nbformat_minor": 5
}
